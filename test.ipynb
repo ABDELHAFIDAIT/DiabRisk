{
 "cells": [
  {
   "cell_type": "markdown",
   "id": "24873caa",
   "metadata": {},
   "source": [
    "**Analyse et Comparaison :**\n",
    "\n",
    "| Variable | Analyse Visuelle (Boxplot) | Résultat du Calcul (Script IQR) | Cohérence & Conclusion |\n",
    "| :--- | :--- | :--- | :--- |\n",
    "| Pregnancies | Quelques points (valeurs aberrantes) sont visibles au-dessus de la moustache supérieure. | 4 outliers détectés. |  Parfaitement cohérent. Les 4 points vus sur le graphique correspondent aux 4 outliers calculés. |\n",
    "| Glucose | Pas de points visibles  | \"Ne contient pas des Outliers !\" |  Parfaitement cohérent |\n",
    "| BloodPressure | Plusieurs points sont visibles en dessous et au-dessus des moustaches. | 14 outliers détectés. |  Parfaitement cohérent. Le calcul confirme le grand nombre de valeurs extrêmes vues sur le graphique. |\n",
    "| SkinThickness | Plusieurs points sont visibles au-dessus de la moustache (même s'ils sont proches). | 4 outliers détectés. |  Parfaitement cohérent. Le calcul est plus précis que l'œil et quantifie les points vus. |\n",
    "| Insulin | Un très grand nombre de points sont visibles au-dessus de la moustache. | 30 outliers détectés. |  Parfaitement cohérent. Le graphique et le calcul montrent une forte présence de valeurs extrêmes. |\n",
    "| BMI | Plusieurs points sont visibles au-dessus de la moustache, ainsi qu'un point à 0. | 8 outliers détectés. |  Parfaitement cohérent. Le calcul confirme les valeurs extrêmes vues visuellement. |\n",
    "| DiabetesPedigreeFunction | Un grand nombre de points sont visibles au-dessus de la moustache. | 29 outliers détectés. |  Parfaitement cohérent. Les deux méthodes confirment de nombreuses valeurs aberrantes. |\n",
    "| Age | Plusieurs points sont visibles au-dessus de la moustache supérieure. | 9 outliers détectés. |  Parfaitement cohérent. Le calcul quantifie précisément ce que le graphique montre. |\n",
    "\n",
    "<br>\n",
    "\n",
    "##### **2.3. Transformation - Choix et Comparaison (Histplot + KDE) :**\n",
    "\n",
    "- **Avant Transformation :**"
   ]
  },
  {
   "cell_type": "code",
   "execution_count": null,
   "id": "0fa02850",
   "metadata": {},
   "outputs": [],
   "source": [
    "plt.subplots(figsize=(15, 15))\n",
    "\n",
    "for i, col in enumerate(outliers_cols):\n",
    "    plt.subplot(4, 2, i + 1)\n",
    "    sns.histplot(data[col], kde=True)\n",
    "    plt.title(f'Histplot + KDE of {col} (Before Transformation)')\n",
    "    plt.tight_layout()\n",
    "\n",
    "plt.show()"
   ]
  },
  {
   "cell_type": "markdown",
   "id": "ebec4056",
   "metadata": {},
   "source": [
    "- **Après Transformation avec Logarithme :**"
   ]
  },
  {
   "cell_type": "code",
   "execution_count": null,
   "id": "de9da146",
   "metadata": {},
   "outputs": [],
   "source": [
    "data_copy = data.copy()\n",
    "\n",
    "plt.subplots(figsize=(15, 15))\n",
    "\n",
    "for i, col in enumerate(outliers_cols):\n",
    "    data_copy[col] = np.log1p(data_copy[col]) \n",
    "\n",
    "    plt.subplot(4, 2, i + 1)\n",
    "    sns.histplot(data_copy[col], kde=True)\n",
    "    plt.title(f'Histplot + KDE of {col} (After Log Transformation)')\n",
    "    plt.tight_layout()\n",
    "\n",
    "plt.show()"
   ]
  },
  {
   "cell_type": "markdown",
   "id": "886ea23f",
   "metadata": {},
   "source": [
    "- **Aprés Transformation avec La Racine :**"
   ]
  },
  {
   "cell_type": "code",
   "execution_count": null,
   "id": "e7d6db87",
   "metadata": {},
   "outputs": [],
   "source": [
    "data_copy = data.copy()\n",
    "\n",
    "plt.subplots(figsize=(15, 15))\n",
    "\n",
    "for i, col in enumerate(outliers_cols):\n",
    "    data_copy[col] = np.sqrt(data_copy[col]) \n",
    "\n",
    "    plt.subplot(4, 2, i + 1)\n",
    "    sns.histplot(data_copy[col], kde=True)\n",
    "    plt.title(f'Histplot + KDE of {col} (After Square Root Transformation)')\n",
    "    plt.tight_layout()\n",
    "\n",
    "plt.show()"
   ]
  }
 ],
 "metadata": {
  "language_info": {
   "name": "python"
  }
 },
 "nbformat": 4,
 "nbformat_minor": 5
}
