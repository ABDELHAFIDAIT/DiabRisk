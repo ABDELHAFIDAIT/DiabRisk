{
 "cells": [
  {
   "cell_type": "markdown",
   "id": "15f15b95",
   "metadata": {},
   "source": [
    "### <center>**Classification Supervisée et Evaluation des Modèles**</center>\n",
    "\n",
    "#### **1. Définition du Variable Cible et des Features :**"
   ]
  },
  {
   "cell_type": "code",
   "execution_count": null,
   "id": "352d3c05",
   "metadata": {},
   "outputs": [],
   "source": [
    "import pandas as pd\n",
    "\n",
    "data = pd.read_csv(\"../data/cleaned/data.csv\")\n",
    "\n",
    "y = data['Cluster']\n",
    "X = data.drop(columns=['Cluster', 'risk_category'])"
   ]
  }
 ],
 "metadata": {
  "kernelspec": {
   "display_name": "Python 3",
   "language": "python",
   "name": "python3"
  },
  "language_info": {
   "codemirror_mode": {
    "name": "ipython",
    "version": 3
   },
   "file_extension": ".py",
   "mimetype": "text/x-python",
   "name": "python",
   "nbconvert_exporter": "python",
   "pygments_lexer": "ipython3",
   "version": "3.13.7"
  }
 },
 "nbformat": 4,
 "nbformat_minor": 5
}
