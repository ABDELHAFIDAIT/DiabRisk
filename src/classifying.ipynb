{
 "cells": [
  {
   "cell_type": "markdown",
   "id": "15f15b95",
   "metadata": {},
   "source": [
    "### <center>**Classification Supervisée et Evaluation des Modèles**</center>\n",
    "\n",
    "#### **1. Définition du Variable Cible et des Features :**"
   ]
  },
  {
   "cell_type": "code",
   "execution_count": 29,
   "id": "352d3c05",
   "metadata": {},
   "outputs": [
    {
     "data": {
      "text/html": [
       "<div>\n",
       "<style scoped>\n",
       "    .dataframe tbody tr th:only-of-type {\n",
       "        vertical-align: middle;\n",
       "    }\n",
       "\n",
       "    .dataframe tbody tr th {\n",
       "        vertical-align: top;\n",
       "    }\n",
       "\n",
       "    .dataframe thead th {\n",
       "        text-align: right;\n",
       "    }\n",
       "</style>\n",
       "<table border=\"1\" class=\"dataframe\">\n",
       "  <thead>\n",
       "    <tr style=\"text-align: right;\">\n",
       "      <th></th>\n",
       "      <th>Pregnancies</th>\n",
       "      <th>Glucose</th>\n",
       "      <th>BloodPressure</th>\n",
       "      <th>SkinThickness</th>\n",
       "      <th>Insulin</th>\n",
       "      <th>BMI</th>\n",
       "      <th>DiabetesPedigreeFunction</th>\n",
       "      <th>Age</th>\n",
       "    </tr>\n",
       "  </thead>\n",
       "  <tbody>\n",
       "    <tr>\n",
       "      <th>0</th>\n",
       "      <td>0.825781</td>\n",
       "      <td>0.863078</td>\n",
       "      <td>0.055277</td>\n",
       "      <td>0.711208</td>\n",
       "      <td>0.839238</td>\n",
       "      <td>0.266103</td>\n",
       "      <td>0.612059</td>\n",
       "      <td>1.437767</td>\n",
       "    </tr>\n",
       "    <tr>\n",
       "      <th>1</th>\n",
       "      <td>-0.802604</td>\n",
       "      <td>-1.206933</td>\n",
       "      <td>-0.439687</td>\n",
       "      <td>0.169719</td>\n",
       "      <td>-0.889534</td>\n",
       "      <td>-0.839820</td>\n",
       "      <td>-0.324994</td>\n",
       "      <td>-0.050575</td>\n",
       "    </tr>\n",
       "    <tr>\n",
       "      <th>2</th>\n",
       "      <td>1.152449</td>\n",
       "      <td>2.013084</td>\n",
       "      <td>-0.614580</td>\n",
       "      <td>0.209057</td>\n",
       "      <td>1.840419</td>\n",
       "      <td>-1.462846</td>\n",
       "      <td>0.749586</td>\n",
       "      <td>0.047687</td>\n",
       "    </tr>\n",
       "    <tr>\n",
       "      <th>3</th>\n",
       "      <td>-0.802604</td>\n",
       "      <td>-1.075504</td>\n",
       "      <td>-0.439687</td>\n",
       "      <td>-0.493010</td>\n",
       "      <td>-0.475488</td>\n",
       "      <td>-0.580889</td>\n",
       "      <td>-1.063014</td>\n",
       "      <td>-1.247065</td>\n",
       "    </tr>\n",
       "    <tr>\n",
       "      <th>4</th>\n",
       "      <td>-1.703581</td>\n",
       "      <td>0.501647</td>\n",
       "      <td>-3.273965</td>\n",
       "      <td>0.711208</td>\n",
       "      <td>0.479229</td>\n",
       "      <td>1.453088</td>\n",
       "      <td>4.158488</td>\n",
       "      <td>0.143015</td>\n",
       "    </tr>\n",
       "  </tbody>\n",
       "</table>\n",
       "</div>"
      ],
      "text/plain": [
       "   Pregnancies   Glucose  BloodPressure  SkinThickness   Insulin       BMI  \\\n",
       "0     0.825781  0.863078       0.055277       0.711208  0.839238  0.266103   \n",
       "1    -0.802604 -1.206933      -0.439687       0.169719 -0.889534 -0.839820   \n",
       "2     1.152449  2.013084      -0.614580       0.209057  1.840419 -1.462846   \n",
       "3    -0.802604 -1.075504      -0.439687      -0.493010 -0.475488 -0.580889   \n",
       "4    -1.703581  0.501647      -3.273965       0.711208  0.479229  1.453088   \n",
       "\n",
       "   DiabetesPedigreeFunction       Age  \n",
       "0                  0.612059  1.437767  \n",
       "1                 -0.324994 -0.050575  \n",
       "2                  0.749586  0.047687  \n",
       "3                 -1.063014 -1.247065  \n",
       "4                  4.158488  0.143015  "
      ]
     },
     "execution_count": 29,
     "metadata": {},
     "output_type": "execute_result"
    }
   ],
   "source": [
    "import pandas as pd\n",
    "\n",
    "data = pd.read_csv(\"../data/cleaned/data.csv\")\n",
    "\n",
    "y = data['Cluster']\n",
    "X = data.drop(columns=['Cluster', 'risk_category'])\n",
    "\n",
    "X.head()"
   ]
  },
  {
   "cell_type": "markdown",
   "id": "f5802c37",
   "metadata": {},
   "source": [
    "#### **2. Division des Données :**"
   ]
  },
  {
   "cell_type": "code",
   "execution_count": 30,
   "id": "da77418f",
   "metadata": {},
   "outputs": [],
   "source": [
    "from sklearn.model_selection import train_test_split\n",
    "\n",
    "X_train, X_test, y_train, y_test = train_test_split(X, y, test_size=0.2, stratify=y, random_state=42)"
   ]
  },
  {
   "cell_type": "markdown",
   "id": "c51b5b7e",
   "metadata": {},
   "source": [
    "Le **``stratify``** garantit que la proportion des clusters (0/1) reste la même dans train et test. C’est essentiel quand on a déséquilibre potentiel.\n",
    "\n",
    "<br>\n",
    "\n",
    "#### **4. Gestion du Déséquilibre :**\n",
    "\n",
    "##### **4.1. C’est quoi un déséquilibre des classes ?**\n",
    "\n",
    "Quand on fait de la classification, on a souvent un jeu de données avec une variable cible (``y``) qui contient plusieurs classes.\n",
    "\n",
    "Dans notre Dataset :\n",
    "\n",
    "- ``0`` = diabète\n",
    "\n",
    "- ``1`` = pas de diabète\n",
    "\n",
    "Si dans notre dataset on a :\n",
    "\n",
    "- ``90`` % de classe ``0``.\n",
    "\n",
    "- ``10`` % de classe ``1``.\n",
    "\n",
    "Alors notre Dataset est **_déséquilibré_**.\n",
    "\n",
    "Le modèle risque d’apprendre à prédire presque toujours la classe majoritaire (0), car elle domine les données."
   ]
  },
  {
   "cell_type": "code",
   "execution_count": 31,
   "id": "7253c0bd",
   "metadata": {},
   "outputs": [
    {
     "name": "stdout",
     "output_type": "stream",
     "text": [
      "Avant sur-échantillonnage : Counter({0: 320, 1: 294})\n"
     ]
    }
   ],
   "source": [
    "from collections import Counter\n",
    "\n",
    "print(\"Avant sur-échantillonnage :\", Counter(y_train))"
   ]
  },
  {
   "cell_type": "markdown",
   "id": "1dc995a6",
   "metadata": {},
   "source": [
    "##### **4.2. RandomOverSampler :**\n",
    "\n",
    "- ``RandomOverSampler`` est une technique de rééchantillonnage (resampling) fournie par la bibliothèque imblearn (``imbalanced-learn``).\n",
    "\n",
    "- Elle sert à équilibrer les classes en dupliquant aléatoirement des exemples de la classe minoritaire.\n",
    "\n",
    "- Il repère la classe minoritaire (celle qui a le moins d’exemples).\n",
    "\n",
    "- Il duplique aléatoirement certains échantillons de cette classe jusqu’à ce que les deux classes aient le même nombre d’exemples.\n",
    "\n",
    "C’est une méthode simple mais efficace pour donner au modèle plus de données de la classe rare."
   ]
  },
  {
   "cell_type": "code",
   "execution_count": 32,
   "id": "388c1519",
   "metadata": {},
   "outputs": [
    {
     "name": "stdout",
     "output_type": "stream",
     "text": [
      "Après sur-échantillonnage : Counter({0: 320, 1: 320})\n"
     ]
    }
   ],
   "source": [
    "from imblearn.over_sampling import RandomOverSampler\n",
    "\n",
    "ros = RandomOverSampler(random_state=42)\n",
    "\n",
    "X_resampled, y_resampled = ros.fit_resample(X_train, y_train)\n",
    "\n",
    "print(\"Après sur-échantillonnage :\", Counter(y_resampled))"
   ]
  },
  {
   "cell_type": "markdown",
   "id": "b5edf22f",
   "metadata": {},
   "source": [
    "<br>\n",
    "\n",
    "#### **5. Entraînement des Modèles :**\n",
    "\n",
    "##### **5.1. RandomForest :**\n",
    "\n"
   ]
  },
  {
   "cell_type": "code",
   "execution_count": null,
   "id": "b09bea53",
   "metadata": {},
   "outputs": [],
   "source": [
    "from sklearn.ensemble import RandomForestRegressor\n",
    "\n",
    "rf = RandomForestRegressor(random_state=42)\n",
    "\n",
    "rf.fit(X_resampled, y_resampled)\n",
    "\n",
    "y_pred_rf = rf.predict(X_test)\n",
    "\n",
    "print(y_pred_rf)"
   ]
  },
  {
   "cell_type": "markdown",
   "id": "63fdfb92",
   "metadata": {},
   "source": [
    "##### **5.2. SVM :**"
   ]
  },
  {
   "cell_type": "code",
   "execution_count": null,
   "id": "77fc5a8a",
   "metadata": {},
   "outputs": [],
   "source": [
    "from sklearn.svm import SVC\n",
    "\n",
    "svm = SVC(probability=True, random_state=42)\n",
    "\n",
    "svm.fit(X_resampled, y_resampled)\n",
    "\n",
    "y_pred_svm = svm.predict(X_test)\n",
    "\n",
    "print(y_pred_svm)"
   ]
  },
  {
   "cell_type": "markdown",
   "id": "b1565fd1",
   "metadata": {},
   "source": [
    "##### **5.3. Gradient Boosting :**"
   ]
  },
  {
   "cell_type": "code",
   "execution_count": null,
   "id": "d62d2752",
   "metadata": {},
   "outputs": [],
   "source": [
    "from sklearn.ensemble import  GradientBoostingClassifier\n",
    "\n",
    "gbc = GradientBoostingClassifier(random_state=42)\n",
    "\n",
    "gbc.fit(X_resampled, y_resampled)\n",
    "\n",
    "y_pred_gbc = gbc.predict(X_test)\n",
    "\n",
    "print(y_pred_gbc)"
   ]
  },
  {
   "cell_type": "markdown",
   "id": "8feb13ae",
   "metadata": {},
   "source": [
    "##### **5.4. Decision Tree :**"
   ]
  },
  {
   "cell_type": "code",
   "execution_count": null,
   "id": "2a2b7f66",
   "metadata": {},
   "outputs": [],
   "source": [
    "from sklearn.tree import DecisionTreeClassifier\n",
    "\n",
    "dt = DecisionTreeClassifier(random_state=42)\n",
    "\n",
    "dt.fit(X_resampled, y_resampled)\n",
    "\n",
    "y_pred_dt = dt.predict(X_test)\n",
    "\n",
    "print(y_pred_dt)"
   ]
  },
  {
   "cell_type": "markdown",
   "id": "567a6670",
   "metadata": {},
   "source": [
    "##### **5.5. Régression Logistique :**"
   ]
  },
  {
   "cell_type": "code",
   "execution_count": null,
   "id": "46294c5f",
   "metadata": {},
   "outputs": [],
   "source": [
    "from sklearn.linear_model import LogisticRegression\n",
    "\n",
    "lr = LogisticRegression(max_iter=1000, random_state=42)\n",
    "\n",
    "lr.fit(X_resampled, y_resampled)\n",
    "\n",
    "y_pred_lr = lr.predict(X_test)\n",
    "\n",
    "print(y_pred_lr)"
   ]
  },
  {
   "cell_type": "markdown",
   "id": "2734b923",
   "metadata": {},
   "source": [
    "##### **5.6. XGB :**"
   ]
  },
  {
   "cell_type": "code",
   "execution_count": null,
   "id": "3ee13008",
   "metadata": {},
   "outputs": [],
   "source": [
    "from xgboost import XGBClassifier\n",
    "\n",
    "xgb = XGBClassifier(use_label_encoder=False, eval_metric='logloss', random_state=42)\n",
    "\n",
    "xgb.fit(X_resampled, y_resampled)\n",
    "\n",
    "y_pred_xgb = xgb.predict(X_test)\n",
    "\n",
    "print(y_pred_xgb)"
   ]
  },
  {
   "cell_type": "markdown",
   "id": "6809cac1",
   "metadata": {},
   "source": [
    "#### **6. Evaluation des Performances :**"
   ]
  }
 ],
 "metadata": {
  "kernelspec": {
   "display_name": "Python 3",
   "language": "python",
   "name": "python3"
  },
  "language_info": {
   "codemirror_mode": {
    "name": "ipython",
    "version": 3
   },
   "file_extension": ".py",
   "mimetype": "text/x-python",
   "name": "python",
   "nbconvert_exporter": "python",
   "pygments_lexer": "ipython3",
   "version": "3.13.7"
  }
 },
 "nbformat": 4,
 "nbformat_minor": 5
}
