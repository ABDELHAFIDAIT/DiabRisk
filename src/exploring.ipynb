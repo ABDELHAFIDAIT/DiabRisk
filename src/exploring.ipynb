{
 "cells": [
  {
   "cell_type": "markdown",
   "id": "98511b9b",
   "metadata": {},
   "source": [
    "## <center>**DiabRisk - Analyse et Prédiction du Risque de Diabète**</center>\n",
    "\n",
    "Un projet d’intelligence artificielle visant à analyser, segmenter et prédire le risque de diabète à partir de données biomédicales de patients.\n",
    "\n",
    "#### **1. Importation de DataSet:**\n",
    "\n",
    "En ``Pandas``, on utilise ``read_csv`` pour importer le fichier csv de notre Dataset.\n",
    "\n",
    "Le chemin du fichier est le suivant : ``DiabRisk/data/raw/data.csv``"
   ]
  },
  {
   "cell_type": "code",
   "execution_count": null,
   "id": "630f0083",
   "metadata": {},
   "outputs": [],
   "source": [
    "import pandas as pd\n",
    "\n",
    "data = pd.read_csv('../data/raw/data.csv')"
   ]
  }
 ],
 "metadata": {
  "kernelspec": {
   "display_name": "Python 3",
   "language": "python",
   "name": "python3"
  },
  "language_info": {
   "codemirror_mode": {
    "name": "ipython",
    "version": 3
   },
   "file_extension": ".py",
   "mimetype": "text/x-python",
   "name": "python",
   "nbconvert_exporter": "python",
   "pygments_lexer": "ipython3",
   "version": "3.13.7"
  }
 },
 "nbformat": 4,
 "nbformat_minor": 5
}
