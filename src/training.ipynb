{
 "cells": [
  {
   "cell_type": "markdown",
   "id": "f9258ec5",
   "metadata": {},
   "source": [
    "### <center>**Entraînement des modèles de clustering avec K-Means**</center>"
   ]
  }
 ],
 "metadata": {
  "language_info": {
   "name": "python"
  }
 },
 "nbformat": 4,
 "nbformat_minor": 5
}
