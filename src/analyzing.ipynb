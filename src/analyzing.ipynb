{
 "cells": [
  {
   "cell_type": "markdown",
   "id": "0ab4b955",
   "metadata": {},
   "source": [
    "### <center>**Analyse des Clusters**</center>\n",
    "\n",
    "#### **1. Calcule des Moyennes par Cluster :**"
   ]
  },
  {
   "cell_type": "code",
   "execution_count": 10,
   "id": "0d57a85e",
   "metadata": {},
   "outputs": [
    {
     "data": {
      "text/html": [
       "<div>\n",
       "<style scoped>\n",
       "    .dataframe tbody tr th:only-of-type {\n",
       "        vertical-align: middle;\n",
       "    }\n",
       "\n",
       "    .dataframe tbody tr th {\n",
       "        vertical-align: top;\n",
       "    }\n",
       "\n",
       "    .dataframe thead th {\n",
       "        text-align: right;\n",
       "    }\n",
       "</style>\n",
       "<table border=\"1\" class=\"dataframe\">\n",
       "  <thead>\n",
       "    <tr style=\"text-align: right;\">\n",
       "      <th></th>\n",
       "      <th>Pregnancies</th>\n",
       "      <th>Glucose</th>\n",
       "      <th>BloodPressure</th>\n",
       "      <th>SkinThickness</th>\n",
       "      <th>Insulin</th>\n",
       "      <th>BMI</th>\n",
       "      <th>DiabetesPedigreeFunction</th>\n",
       "      <th>Age</th>\n",
       "    </tr>\n",
       "    <tr>\n",
       "      <th>Cluster</th>\n",
       "      <th></th>\n",
       "      <th></th>\n",
       "      <th></th>\n",
       "      <th></th>\n",
       "      <th></th>\n",
       "      <th></th>\n",
       "      <th></th>\n",
       "      <th></th>\n",
       "    </tr>\n",
       "  </thead>\n",
       "  <tbody>\n",
       "    <tr>\n",
       "      <th>0</th>\n",
       "      <td>1.509682</td>\n",
       "      <td>1.040599</td>\n",
       "      <td>4.333613</td>\n",
       "      <td>3.460705</td>\n",
       "      <td>5.314073</td>\n",
       "      <td>3.556648</td>\n",
       "      <td>0.390219</td>\n",
       "      <td>3.614360</td>\n",
       "    </tr>\n",
       "    <tr>\n",
       "      <th>1</th>\n",
       "      <td>1.191172</td>\n",
       "      <td>-0.624359</td>\n",
       "      <td>4.249242</td>\n",
       "      <td>3.274061</td>\n",
       "      <td>4.556771</td>\n",
       "      <td>3.449156</td>\n",
       "      <td>0.350377</td>\n",
       "      <td>3.401902</td>\n",
       "    </tr>\n",
       "  </tbody>\n",
       "</table>\n",
       "</div>"
      ],
      "text/plain": [
       "         Pregnancies   Glucose  BloodPressure  SkinThickness   Insulin  \\\n",
       "Cluster                                                                  \n",
       "0           1.509682  1.040599       4.333613       3.460705  5.314073   \n",
       "1           1.191172 -0.624359       4.249242       3.274061  4.556771   \n",
       "\n",
       "              BMI  DiabetesPedigreeFunction       Age  \n",
       "Cluster                                                \n",
       "0        3.556648                  0.390219  3.614360  \n",
       "1        3.449156                  0.350377  3.401902  "
      ]
     },
     "execution_count": 10,
     "metadata": {},
     "output_type": "execute_result"
    }
   ],
   "source": [
    "import pandas as pd\n",
    "\n",
    "data = pd.read_csv(\"../data/trained/data.csv\")\n",
    "\n",
    "data.groupby('Cluster').mean()"
   ]
  },
  {
   "cell_type": "markdown",
   "id": "e6d1449a",
   "metadata": {},
   "source": [
    "- **Cluster 0 - Potentiel risque élevé :**\n",
    "\n",
    "    - ``Glucose`` : Moyenne élevée (1.04), au-dessus de la moyenne globale càd risque plus élevé de diabète.\n",
    "\n",
    "    - ``Insulin`` : Moyenne légèrement élevée (5.31) ce qui reflète un métabolisme actif de l’insuline.\n",
    "\n",
    "    - ``BMI`` : Légèrement au-dessus de la moyenne (3.56) càd un poids légèrement supérieur.\n",
    "\n",
    "    - ``Pregnancies``, ``BloodPressure``, ``SkinThickness``, ``Age``, ``DiabetesPedigreeFunction`` : Légèrement supérieurs à la moyenne globale, contribuant modérément au profil de risque.\n",
    "\n",
    "    - **Interprétation générale :** Ce cluster regroupe les individus présentant un profil métabolique plus élevé, donc un risque potentiel de diabète plus important.\n",
    "\n",
    "- **Cluster 1 - Potentiel risque faible :**\n",
    "\n",
    "    - ``Glucose`` : Moyenne inférieure (-0.62), au-dessous de la moyenne globale càd risque de diabète plus faible.\n",
    "\n",
    "    - ``Insulin`` : Moyenne plus basse (4.56) càd activité ``insulin``ique moins élevée.\n",
    "\n",
    "    - ``BMI`` : Légèrement plus faible (3.45) càd poids inférieur à la moyenne globale.\n",
    "\n",
    "    - ``Pregnancies``, ``BloodPressure``, ``SkinThickness``, ``Age``, ``DiabetesPedigreeFunction`` : Légèrement inférieurs ou proches de la moyenne globale, contribuant faiblement au risque.\n",
    "\n",
    "    - **Interprétation générale :** Ce cluster regroupe les individus présentant un profil métabolique moins prononcé, donc un risque potentiel de diabète plus faible."
   ]
  }
 ],
 "metadata": {
  "kernelspec": {
   "display_name": "Python 3",
   "language": "python",
   "name": "python3"
  },
  "language_info": {
   "codemirror_mode": {
    "name": "ipython",
    "version": 3
   },
   "file_extension": ".py",
   "mimetype": "text/x-python",
   "name": "python",
   "nbconvert_exporter": "python",
   "pygments_lexer": "ipython3",
   "version": "3.13.7"
  }
 },
 "nbformat": 4,
 "nbformat_minor": 5
}
